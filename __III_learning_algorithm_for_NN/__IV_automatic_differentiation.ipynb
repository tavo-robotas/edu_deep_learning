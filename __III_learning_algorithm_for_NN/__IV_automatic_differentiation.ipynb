{
 "cells": [
  {
   "cell_type": "markdown",
   "metadata": {},
   "source": [
    "# IV Automatic differentiation\n",
    "\n",
    "## Topics\n",
    "\n",
    "Part 1 (52:00):<br>\n",
    "<code>**1: Automatic differentiation overview**</code><br>\n",
    "<code>**2: Learning more about PyTorch**</code><br>\n",
    "<code>**3: Understanding automatic differentiation via computation graphs**</code><br>\n",
    "<code>**4: Coding in PyTorch**</code><br>\n",
    "\n",
    "Part 2 (60 min):<br>\n",
    "<code>**5: Training ADALINE with PyTorch**</code><br>\n",
    "<code>**6: Closer look at PyTorch API**</code><br>\n",
    "<code>**7: GPU resources and Google colab**</code><br>\n",
    "\n",
    "\n",
    "\n",
    "1:07\n",
    "\n",
    "22:30\n",
    "25:03\n",
    "19:17\n"
   ]
  }
 ],
 "metadata": {
  "kernelspec": {
   "display_name": "Python 3.7.4 32-bit",
   "language": "python",
   "name": "python37432bitc856d1d617f0478da8cbf97a005d9730"
  },
  "language_info": {
   "codemirror_mode": {
    "name": "ipython",
    "version": 3
   },
   "file_extension": ".py",
   "mimetype": "text/x-python",
   "name": "python",
   "nbconvert_exporter": "python",
   "pygments_lexer": "ipython3",
   "version": "3.7.4"
  }
 },
 "nbformat": 4,
 "nbformat_minor": 4
}
