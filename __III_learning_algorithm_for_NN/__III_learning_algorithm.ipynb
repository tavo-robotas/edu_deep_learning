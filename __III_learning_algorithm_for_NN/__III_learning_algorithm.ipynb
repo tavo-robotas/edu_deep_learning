{
 "cells": [
  {
   "cell_type": "markdown",
   "metadata": {},
   "source": [
    "# III Learning algorithm\n",
    "\n",
    "## Topics\n",
    "\n",
    "<code>**1: Gradient descent overview**</code><br>\n",
    "<code>**2: Online, Batch, Minibatch mode**</code><br>\n",
    "<code>**3: Relashion between perceptron and linear regression**</code><br>\n",
    "<code>**4: An iterative training algorithm for linear regression**</code><br>\n",
    "<code>**5: Calculus I: Derivative**</code><br>\n",
    "<code>**6: Calculus II: Gradients**</code><br>\n",
    "<code>**7: Understanding gradient descent**</code><br>\n",
    "<code>**8: Training an adaptive linear neuron(ADALINE)**</code><br>\n",
    "<code>**9: ADALINE code example**</code>\n",
    "\n",
    "2:25:00\n",
    "\n"
   ]
  },
  {
   "cell_type": "code",
   "execution_count": null,
   "metadata": {},
   "outputs": [],
   "source": []
  }
 ],
 "metadata": {
  "kernelspec": {
   "display_name": "Python 3.7.4 32-bit",
   "language": "python",
   "name": "python37432bitc856d1d617f0478da8cbf97a005d9730"
  },
  "language_info": {
   "codemirror_mode": {
    "name": "ipython",
    "version": 3
   },
   "file_extension": ".py",
   "mimetype": "text/x-python",
   "name": "python",
   "nbconvert_exporter": "python",
   "pygments_lexer": "ipython3",
   "version": "3.7.4"
  }
 },
 "nbformat": 4,
 "nbformat_minor": 4
}
