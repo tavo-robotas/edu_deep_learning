{
 "cells": [
  {
   "cell_type": "markdown",
   "metadata": {},
   "source": [
    "# V code practice\n",
    "\n",
    "Lets warp up what we talked about in the previous sections in a code example. This prepared notebook can be found on github where two thing are implemented. Loistic regression from scratch the low implementation level, implementing the learning rule. And then we move on to use the PyTorch utilities, module API that we talked previously where we had this linear layer and so forth. This is what we would do in practice when we have more complicated networks but the from scratch example is very usefull for learning perspective to get a better feeling of how logistic regression works."
   ]
  },
  {
   "cell_type": "markdown",
   "metadata": {},
   "source": [
    "### Imports"
   ]
  },
  {
   "cell_type": "code",
   "execution_count": 1,
   "metadata": {},
   "outputs": [],
   "source": [
    "import torch\n",
    "import numpy as np\n",
    "import matplotlib.pyplot as plt"
   ]
  },
  {
   "cell_type": "markdown",
   "metadata": {},
   "source": [
    "### Preparing a dataset"
   ]
  },
  {
   "cell_type": "code",
   "execution_count": 2,
   "metadata": {},
   "outputs": [],
   "source": [
    "data = np.genfromtxt('../data_samples/perceptron_data.txt', delimiter='\\t')"
   ]
  },
  {
   "cell_type": "code",
   "execution_count": 14,
   "metadata": {},
   "outputs": [],
   "source": [
    "X = data[:, :2].astype(np.float32)\n",
    "y = data[:,  2].astype(np.float32)"
   ]
  },
  {
   "cell_type": "code",
   "execution_count": null,
   "metadata": {},
   "outputs": [],
   "source": [
    "X , y"
   ]
  },
  {
   "cell_type": "code",
   "execution_count": 12,
   "metadata": {},
   "outputs": [],
   "source": [
    "def split(X, y):\n",
    "    idx = np.arange(y.shape[0])\n",
    "    np.random.shuffle(idx)\n",
    "    \n",
    "    X_test,  y_test  = X[idx[:25]], y[idx[:25]]\n",
    "    X_train, y_train = X[idx[25:]], y[idx[25:]]\n",
    "    \n",
    "    return X_train, X_test, y_train, y_test\n",
    "\n",
    "def normalize(data):\n",
    "    mu, std = np.mean(data, axis=0), np.std(data, axis=0)\n",
    "    data = data - mu / std\n",
    "    return data"
   ]
  },
  {
   "cell_type": "code",
   "execution_count": 15,
   "metadata": {},
   "outputs": [],
   "source": [
    "X_train, X_test, y_train, y_test = split(X, y)"
   ]
  },
  {
   "cell_type": "code",
   "execution_count": 16,
   "metadata": {},
   "outputs": [],
   "source": [
    "X_train = normalize(X_train)\n",
    "X_test  = normalize(X_test)"
   ]
  },
  {
   "cell_type": "markdown",
   "metadata": {},
   "source": [
    "A simple binary classification data set"
   ]
  },
  {
   "cell_type": "code",
   "execution_count": 29,
   "metadata": {},
   "outputs": [
    {
     "data": {
      "image/png": "[encoded data removed]",
      "text/plain": [
       "<Figure size 1008x360 with 2 Axes>"
      ]
     },
     "metadata": {
      "needs_background": "light"
     },
     "output_type": "display_data"
    }
   ],
   "source": [
    "fig, (ax1, ax2) = plt.subplots(1, 2, figsize=(14,5))\n",
    "ax1.scatter(X_train[y_train == 1, 0], X_train[y_train == 1, 1])\n",
    "ax1.scatter(X_train[y_train == 0, 0], X_train[y_train == 0, 1])\n",
    "ax2.scatter(X_test[y_test == 1, 0],   X_test[y_test == 1, 1])\n",
    "ax2.scatter(X_test[y_test == 0, 0],   X_test[y_test == 0, 1])\n",
    "\n",
    "plt.xlim([x[:,0].min() - 0.5 , x[:, 0].max() + 0.5])\n",
    "plt.ylim([x[:,1].min() - 0.5 , x[:, 1].max() + 0.5])\n",
    "\n",
    "plt.show()"
   ]
  },
  {
   "cell_type": "markdown",
   "metadata": {},
   "source": [
    "### Low level implementation with manual gradients"
   ]
  },
  {
   "cell_type": "code",
   "execution_count": null,
   "metadata": {},
   "outputs": [],
   "source": [
    "device = torch.device(\"cuda:0\" if torch.cuda_is_available() else \"cpu\")\n",
    "\n",
    "class LogisticRegression_A():\n",
    "    def __init__(self, num_features):\n",
    "        self.num_features = num_features\n",
    "        self.weights = torch.zeros(1, num_features, dtype=torch.float32, device=device)\n",
    "        self.bias    = torch.zeros(1, dtype=torch.float32, device=device)\n",
    "        \n",
    "    def forward(self, x):\n",
    "        net_input = torch.add(torch.mm(x, self.weights.t()), self.bias).view(-1)\n",
    "        probas    = self._sigmoid(net_input)\n",
    "        return probas\n",
    "    \n",
    "    def backward(self, x, y, probas):\n",
    "        grad_loss_wrt_z = probas.view(-1) - y \n",
    "        grad_loss_wrt_w   = torch.mm(x.t(), grad_loss_wrt_z.view(-1, 1)).t()\n",
    "        grad_loss_wrt_b   = torch.sum(grad_loss_wrt_z)\n",
    "        return grad_loss_wrt_w, grad_loss_wrt_b\n",
    "        \n",
    "    def predict(self, x):\n",
    "        probas = self.forward(x)\n",
    "        labels = torch.where(probas >= .5, 1, 0)\n",
    "        return labels\n",
    "    \n",
    "    def evaluate(self, x, y):\n",
    "        labels   = self.predict(x)\n",
    "        accuracy = torch.sum(labels.view(-1) == y).item() / y.size(0)\n",
    "        return accuracy\n",
    "    \n",
    "    def _sigmoid(z):\n",
    "        return 1 / (1 + np.exp(-z))\n",
    "    \n",
    "    def _logit_cost(self, y, proba):\n",
    "        tmp1 = torch.mm(y.view(1, -1), torch.log(proba.view(-1, 1)))\n",
    "        tmp2 = torch.mm((1 - y).view(1, -1), torch.log(1 - proba.view(-1, 1)))\n",
    "        return tmp1 - tmp2\n",
    "    \n",
    "    def train(self, x, y, num_epochs, learning_rate=0.01):\n",
    "        epoch_cost = []\n",
    "        for e in range(num_epochs):\n",
    "            probas = self.forward(x)\n",
    "            \n",
    "            grad_w, grad_b = self.backward(x, y , probas)\n",
    "            \n",
    "            self.weights -= learning_rate * grad_w\n",
    "            self.bias    -= learning_rate * grad_b\n",
    "            \n",
    "            \n",
    "            cost = self._logit_cost(y, self.forward(x)) / x.size(0)\n",
    "            print('Epoch: %03d' % (e+1), end=\"\")\n",
    "            print(' | Training ACC: %.3f' % self.evaluate(x, y), end=\"\")\n",
    "            print(' | Cost: %.3f' % cost)\n",
    "            \n",
    "            epoch_cost.append(cost)\n",
    "            \n",
    "        return epoch_cost"
   ]
  },
  {
   "cell_type": "code",
   "execution_count": null,
   "metadata": {},
   "outputs": [],
   "source": [
    "X_train_tensor = torch.tensor(X_train, dtype=torch.float32, device=device)\n",
    "y_train_tensor = torch.tensor(y_train, dtype=torch.float32, device=device)"
   ]
  },
  {
   "cell_type": "code",
   "execution_count": null,
   "metadata": {},
   "outputs": [],
   "source": [
    "model = LogisticRegression_A(num_features=2)\n",
    "epoch_cost = model.train(X_train_tensor, y_train_tensor, num_epochs=30, learning_rate=0.1)\n",
    "\n",
    "print('\\nModel parameters:')\n",
    "print(' Weights: %s' % model.weights)\n",
    "print(' Bias: %s' % model.bias)"
   ]
  },
  {
   "cell_type": "markdown",
   "metadata": {},
   "source": [
    "### Evaluating the model"
   ]
  },
  {
   "cell_type": "code",
   "execution_count": null,
   "metadata": {},
   "outputs": [],
   "source": [
    "plt.plot(epoch_cost)\n",
    "plt.ylabel('Log likelihood loss')\n",
    "plt.xlabel('Epoch')\n",
    "plt.show()"
   ]
  },
  {
   "cell_type": "code",
   "execution_count": null,
   "metadata": {},
   "outputs": [],
   "source": [
    "X_test_tensor = torch.tensor(X_test, dtype=torch.float32, device=device)\n",
    "y_test_tensor = torch.tensor(y_test, dtype=torch.float32, device=device)"
   ]
  },
  {
   "cell_type": "code",
   "execution_count": null,
   "metadata": {},
   "outputs": [],
   "source": [
    "test_acc = model.evaluate(X_test_tensor, y_test_tensor)\n",
    "print('Test set accuracy: %.2f%%' % (test_acc*100))"
   ]
  },
  {
   "cell_type": "markdown",
   "metadata": {},
   "source": [
    "### 2D decision boundary"
   ]
  },
  {
   "cell_type": "code",
   "execution_count": null,
   "metadata": {},
   "outputs": [],
   "source": [
    "w, b = model.weights.view(-1), model.bias\n",
    "\n",
    "x_min = -2\n",
    "x_max = 2\n",
    "y_min = ((-(w[0] * x_min) - b[0]) / w[1])\n",
    "y_max = ((-(w[0] * x_max) - b[0]) / w[1])\n",
    "\n",
    "fig, (ax1, ax2) = plt.subplots(1, 2, sharex=True, figsize=( 14, 5))\n",
    "\n",
    "ax1.plot([x_min, x_max], [y_min, y_max])\n",
    "ax2.plot([x_min, x_max], [y_min, y_max])\n",
    "\n",
    "ax1.scatter(X_train[y_train == 0, 0], X_train[y_train == 0, 1], label='0', marker='o')\n",
    "ax1.scatter(X_train[y_train == 1, 0], X_train[y_train == 1, 1], label='1', marker='s')\n",
    "\n",
    "ax2.scatter(X_test[y_test == 0, 0],   X_test[y_test == 0, 1], label='0', marker='0')\n",
    "ax2.scatter(X_test[y_test == 1, 0],   X_test[y_test == 1, 1], label='1', marker='s')\n",
    "\n",
    "ax1.legend(loc='upper left')\n",
    "ax2.legend(loc='upper left')\n",
    "plt.show()"
   ]
  }
 ],
 "metadata": {
  "kernelspec": {
   "display_name": "Python 3",
   "language": "python",
   "name": "python3"
  },
  "language_info": {
   "codemirror_mode": {
    "name": "ipython",
    "version": 3
   },
   "file_extension": ".py",
   "mimetype": "text/x-python",
   "name": "python",
   "nbconvert_exporter": "python",
   "pygments_lexer": "ipython3",
   "version": "3.7.4"
  }
 },
 "nbformat": 4,
 "nbformat_minor": 4
}
